{
 "cells": [
  {
   "cell_type": "code",
   "execution_count": 12,
   "id": "2f9705ff",
   "metadata": {},
   "outputs": [
    {
     "name": "stdout",
     "output_type": "stream",
     "text": [
      "Enter the number in the list : 5\n",
      "3\n",
      "2\n",
      "4\n",
      "1\n",
      "5\n",
      "----------------------------------\n",
      "5\n",
      "2\n",
      "4\n",
      "1\n",
      "3\n"
     ]
    }
   ],
   "source": [
    "# Python program to interchange first and last elements in a list\n",
    "n = int(input(\"Enter the number in the list : \"));\n",
    "l = [];\n",
    "for i in range(0,n):\n",
    "    j = int(input())\n",
    "    l.append(j)\n",
    "    \n",
    "print(\"----------------------------------\")\n",
    "i=0;\n",
    "l[i] = l[i] + l[n-1];\n",
    "l[n-1] = l[i]-l[n-1];\n",
    "l[i] = l[i] - l[n-1];\n",
    "\n",
    "for i in range(0,n):\n",
    "    print(l[i]);\n"
   ]
  },
  {
   "cell_type": "code",
   "execution_count": null,
   "id": "9bc6d87d",
   "metadata": {},
   "outputs": [],
   "source": []
  },
  {
   "cell_type": "code",
   "execution_count": 24,
   "id": "9c6b520c",
   "metadata": {},
   "outputs": [
    {
     "name": "stdout",
     "output_type": "stream",
     "text": [
      "Enter the number of elements in the list: 5\n",
      "Enter the elements:\n",
      "2\n",
      "4\n",
      "1\n",
      "5\n",
      "8\n",
      "Enter the positions of the elements to swap (0-based index):\n",
      "Position 1: 3\n",
      "Position 2: 1\n",
      "List after swapping elements:\n",
      "2\n",
      "5\n",
      "1\n",
      "4\n",
      "8\n"
     ]
    }
   ],
   "source": [
    "# swap any two element of the list\n",
    "n = int(input(\"Enter the number of elements in the list: \"))\n",
    "l = []\n",
    "\n",
    "print(\"Enter the elements:\")\n",
    "for i in range(n):\n",
    "    j = int(input())\n",
    "    l.append(j)\n",
    "\n",
    "print(\"Enter the positions of the elements to swap :\")\n",
    "ind1 = int(input(\"Position 1: \"))\n",
    "ind2 = int(input(\"Position 2: \"))\n",
    "\n",
    "# Swap the elements at pos1 and pos2\n",
    "l[ind1], l[ind2] = l[ind2], l[ind1]\n",
    "\n",
    "print(\"List after swapping elements:\")\n",
    "for i in range(n):\n",
    "    print(l[i])\n"
   ]
  },
  {
   "cell_type": "code",
   "execution_count": 14,
   "id": "5da5bcff",
   "metadata": {},
   "outputs": [
    {
     "name": "stdout",
     "output_type": "stream",
     "text": [
      "Enter the number in the list : 5\n",
      "2\n",
      "3\n",
      "1\n",
      "4\n",
      "5\n",
      "----------------------------------\n",
      "Length of the list is :  5\n"
     ]
    }
   ],
   "source": [
    "# length of the list\n",
    "n = int(input(\"Enter the number in the list : \"));\n",
    "l = [];\n",
    "for i in range(0,n):\n",
    "    j = int(input())\n",
    "    l.append(j)\n",
    "    \n",
    "print(\"----------------------------------\")\n",
    "count =0;\n",
    "for i in range(0,n):\n",
    "    count = count+1\n",
    "print(\"Length of the list is : \",count)"
   ]
  },
  {
   "cell_type": "code",
   "execution_count": 2,
   "id": "c862f7d2",
   "metadata": {},
   "outputs": [
    {
     "name": "stdout",
     "output_type": "stream",
     "text": [
      "Length of the kist is :  5\n"
     ]
    }
   ],
   "source": [
    "count=0;\n",
    "for i in l:\n",
    "    count = count+1\n",
    "print(\"Length of the kist is : \",count)"
   ]
  },
  {
   "cell_type": "code",
   "execution_count": 22,
   "id": "ad43dc32",
   "metadata": {},
   "outputs": [
    {
     "name": "stdout",
     "output_type": "stream",
     "text": [
      "Enter the number in the list : 5\n",
      "1\n",
      "2\n",
      "4\n",
      "5\n",
      "3\n",
      "----------------------------------\n",
      "Enter the positions of the elements to swap (0-based index):\n",
      "Position 1: 2\n",
      "Position 2: 4\n",
      "4 is greater than 3\n"
     ]
    }
   ],
   "source": [
    "# Maximum of two numbers in Python\n",
    "n = int(input(\"Enter the number in the list : \"));\n",
    "l = [];\n",
    "for i in range(0,n):\n",
    "    j = int(input())\n",
    "    l.append(j)\n",
    "    \n",
    "print(\"----------------------------------\")\n",
    "\n",
    "print(\"Enter the positions of the elements to swap (0-based index):\")\n",
    "ind1 = int(input(\"Position 1: \"))\n",
    "ind2 = int(input(\"Position 2: \"))\n",
    "\n",
    "\n",
    "\n",
    "if(l[ind1]==l[ind2]):\n",
    "    print(f\"{l[ind1]} id equal to {l[ind2]}\");\n",
    "elif(l[ind1]>l[ind2]):\n",
    "    print(f\"{l[ind1]} is greater than {l[ind2]}\");\n",
    "else:\n",
    "    print(f\"{l[ind2]} is greater than {l[ind1]}\");"
   ]
  },
  {
   "cell_type": "code",
   "execution_count": 23,
   "id": "d38bc9a9",
   "metadata": {},
   "outputs": [
    {
     "name": "stdout",
     "output_type": "stream",
     "text": [
      "Enter the number in the list : 4\n",
      "5\n",
      "2\n",
      "3\n",
      "1\n",
      "----------------------------------\n",
      "Enter the positions of the elements to swap (0-based index):\n",
      "Position 1: 0\n",
      "Position 2: 2\n",
      "3 is smaller than 5\n"
     ]
    }
   ],
   "source": [
    "# Minimum of two numbers in Python\n",
    "n = int(input(\"Enter the number in the list : \"));\n",
    "l = [];\n",
    "for i in range(0,n):\n",
    "    j = int(input())\n",
    "    l.append(j)\n",
    "    \n",
    "print(\"----------------------------------\")\n",
    "\n",
    "print(\"Enter the positions of the elements to swap (0-based index):\")\n",
    "ind1 = int(input(\"Position 1: \"))\n",
    "ind2 = int(input(\"Position 2: \"))\n",
    "\n",
    "\n",
    "\n",
    "if(l[ind1]==l[ind2]):\n",
    "    print(f\"{l[ind1]} id equal to {l[ind2]}\");\n",
    "elif(l[ind1]<l[ind2]):\n",
    "    print(f\"{l[ind1]} is smaller than {l[ind2]}\");\n",
    "else:\n",
    "    print(f\"{l[ind2]} is smaller than {l[ind1]}\");"
   ]
  },
  {
   "cell_type": "code",
   "execution_count": null,
   "id": "b27add85",
   "metadata": {},
   "outputs": [],
   "source": []
  },
  {
   "cell_type": "code",
   "execution_count": 33,
   "id": "2ed5bd24",
   "metadata": {},
   "outputs": [
    {
     "name": "stdout",
     "output_type": "stream",
     "text": [
      "Enter any string: tikit\n",
      "tikit is not symmetrical\n",
      "tikit is a palindrome\n"
     ]
    }
   ],
   "source": [
    "# Python program to check whether the string is Symmetrical or Palindrome\n",
    "def is_symmetrical(s):\n",
    "    length = len(s)\n",
    "    mid = length // 2\n",
    "    if length % 2 == 0:\n",
    "        first_half = s[:mid]\n",
    "        second_half = s[mid:]\n",
    "    else:\n",
    "        first_half = s[:mid]\n",
    "        second_half = s[mid+1:]\n",
    "    return first_half == second_half\n",
    "\n",
    "def is_palindrome(s):\n",
    "    return s == s[::-1]\n",
    "\n",
    "\n",
    "s = input(\"Enter any string: \")\n",
    "\n",
    "\n",
    "if is_symmetrical(s):\n",
    "    print(f\"{s} is symmetrical\")\n",
    "else:\n",
    "    print(f\"{s} is not symmetrical\")\n",
    "\n",
    "# Check if the string is a palindrome\n",
    "if is_palindrome(s):\n",
    "    print(f\"{s} is a palindrome\")\n",
    "else:\n",
    "    print(f\"{s} is not a palindrome\")\n"
   ]
  },
  {
   "cell_type": "code",
   "execution_count": null,
   "id": "e4e6e2c1",
   "metadata": {},
   "outputs": [],
   "source": [
    "# Reverse words in a given String in Python\n",
    "s = input(\"Enter any string: \")\n",
    "l = list(s)\n",
    "n=len(s)\n",
    "i=0;\n",
    "j=n-1;\n",
    "while i<j:\n",
    "    l[i], l[j] = l[j], l[i]\n",
    "    i=i+1;\n",
    "    j=j-1;\n",
    "\n",
    "reversed_string = ''.join(l)  \n",
    "print(reversed_string)"
   ]
  },
  {
   "cell_type": "code",
   "execution_count": null,
   "id": "02ba7b7b",
   "metadata": {},
   "outputs": [],
   "source": []
  },
  {
   "cell_type": "code",
   "execution_count": 3,
   "id": "648b98a0",
   "metadata": {},
   "outputs": [
    {
     "name": "stdout",
     "output_type": "stream",
     "text": [
      "Enter the number of rows: 3\n",
      "Enter the number of columns: 3\n",
      "Enter elements for row 1:\n",
      "Element 1: 1\n",
      "Element 2: 2\n",
      "Element 3: 3\n",
      "Enter elements for row 2:\n",
      "Element 1: 4\n",
      "Element 2: 2\n",
      "Element 3: 3\n",
      "Enter elements for row 3:\n",
      "Element 1: 5\n",
      "Element 2: 6\n",
      "Element 3: 4\n",
      "The tuple matrix is:\n",
      "(1, 2, 3)\n",
      "(4, 2, 3)\n",
      "(5, 6, 4)\n",
      "(6, 9, 15)\n"
     ]
    }
   ],
   "source": [
    "# Function to take user input for tuple matrix\n",
    "def tuple_matrix():\n",
    "    # Take the number of rows and columns as input\n",
    "    rows = int(input(\"Enter the number of rows: \"))\n",
    "    cols = int(input(\"Enter the number of columns: \"))\n",
    "\n",
    "    # Initialize an empty list to store the matrix rows\n",
    "    matrix = []\n",
    "\n",
    "    # Loop through each row\n",
    "    for i in range(rows):\n",
    "        # Initialize an empty list to store the current row elements\n",
    "        row = []\n",
    "        print(f\"Enter elements for row {i+1}:\")\n",
    "        # Loop through each column to take input for the current row\n",
    "        for j in range(cols):\n",
    "            element = int(input(f\"Element {j+1}: \"))\n",
    "            row.append(element)\n",
    "        # Convert the current row list to a tuple and add it to the matrix\n",
    "        matrix.append(tuple(row))\n",
    "\n",
    "    # Convert the list of tuples to a tuple of tuples\n",
    "    matrix = tuple(matrix)\n",
    "    return matrix\n",
    "\n",
    "# Call the function and get the tuple matrix\n",
    "matrix = tuple_matrix()\n",
    "\n",
    "# Print the resulting tuple matrix\n",
    "print(\"The tuple matrix is:\")\n",
    "for row in matrix:\n",
    "    print(row)\n",
    "\n",
    "matrix=list(matrix)\n",
    "row_sums=[]\n",
    "for row in matrix:\n",
    "    row_sum = sum(row)\n",
    "    row_sums.append(row_sum)\n",
    "\n",
    "sum_tuple=tuple(row_sums)\n",
    "print(sum_tuple)"
   ]
  },
  {
   "cell_type": "code",
   "execution_count": 4,
   "id": "c40eaa24",
   "metadata": {},
   "outputs": [
    {
     "name": "stdout",
     "output_type": "stream",
     "text": [
      "enter n: 5\n",
      "Enter1 element: 2\n",
      "Enter2 element: 3\n",
      "Enter3 element: 4\n",
      "Enter4 element: 1\n",
      "Enter5 element: 5\n",
      "[(2, 8), (3, 27), (4, 64), (1, 1), (5, 125)]\n"
     ]
    }
   ],
   "source": [
    "l=[]\n",
    "n=int(input(\"enter n: \"))\n",
    "for i in range(n):\n",
    "    e=int(input(f\"Enter {i+1} element: \"))\n",
    "    l.append(e)\n",
    "tuple_list = [(num,num**3) for num in l]\n",
    "print(tuple_list)"
   ]
  },
  {
   "cell_type": "code",
   "execution_count": null,
   "id": "d70a81a2",
   "metadata": {},
   "outputs": [],
   "source": []
  },
  {
   "cell_type": "code",
   "execution_count": 1,
   "id": "6b583a12",
   "metadata": {},
   "outputs": [
    {
     "name": "stdout",
     "output_type": "stream",
     "text": [
      "rohit\n",
      "Key Check: Key not found\n"
     ]
    }
   ],
   "source": [
    "my_dict = {'apple': 3, 'banana': 1}\n",
    "key = input();\n",
    "\n",
    "# Attempt to access a key\n",
    "try:\n",
    "    check = my_dict[key]\n",
    "except KeyError:\n",
    "    check = 'Key not found'\n",
    "\n",
    "print(\"Key Check:\", check)\n"
   ]
  },
  {
   "cell_type": "code",
   "execution_count": null,
   "id": "07a824f3",
   "metadata": {},
   "outputs": [],
   "source": []
  },
  {
   "cell_type": "code",
   "execution_count": 24,
   "id": "bbcd570f",
   "metadata": {},
   "outputs": [
    {
     "ename": "TypeError",
     "evalue": "'dict' object is not callable",
     "output_type": "error",
     "traceback": [
      "\u001b[1;31m---------------------------------------------------------------------------\u001b[0m",
      "\u001b[1;31mTypeError\u001b[0m                                 Traceback (most recent call last)",
      "Cell \u001b[1;32mIn[24], line 7\u001b[0m\n\u001b[0;32m      4\u001b[0m my_dict \u001b[38;5;241m=\u001b[39m {\u001b[38;5;124m'\u001b[39m\u001b[38;5;124mapple\u001b[39m\u001b[38;5;124m'\u001b[39m: \u001b[38;5;241m3\u001b[39m, \u001b[38;5;124m'\u001b[39m\u001b[38;5;124mbanana\u001b[39m\u001b[38;5;124m'\u001b[39m: \u001b[38;5;241m1\u001b[39m, \u001b[38;5;124m'\u001b[39m\u001b[38;5;124mcherry\u001b[39m\u001b[38;5;124m'\u001b[39m: \u001b[38;5;241m2\u001b[39m}\n\u001b[0;32m      6\u001b[0m \u001b[38;5;66;03m# Sort the dictionary by keys\u001b[39;00m\n\u001b[1;32m----> 7\u001b[0m sorted_by_keys \u001b[38;5;241m=\u001b[39m \u001b[38;5;28mdict\u001b[39m(\u001b[38;5;28msorted\u001b[39m(my_dict\u001b[38;5;241m.\u001b[39mitems()))\n\u001b[0;32m      9\u001b[0m \u001b[38;5;66;03m# Print the sorted dictionary\u001b[39;00m\n\u001b[0;32m     10\u001b[0m \u001b[38;5;28mprint\u001b[39m(\u001b[38;5;124m\"\u001b[39m\u001b[38;5;124mSorted by keys:\u001b[39m\u001b[38;5;124m\"\u001b[39m, sorted_by_keys)\n",
      "\u001b[1;31mTypeError\u001b[0m: 'dict' object is not callable"
     ]
    }
   ],
   "source": [
    "# Create a fresh script with just this content\n",
    "\n",
    "# Define a dictionary\n",
    "my_dict = {'apple': 3, 'banana': 1, 'cherry': 2}\n",
    "\n",
    "# Sort the dictionary by keys\n",
    "sorted_by_keys = dict(sorted(my_dict.items()))\n",
    "\n",
    "# Print the sorted dictionary\n",
    "print(\"Sorted by keys:\", sorted_by_keys)\n",
    "\n"
   ]
  },
  {
   "cell_type": "code",
   "execution_count": 26,
   "id": "ac550d92",
   "metadata": {},
   "outputs": [
    {
     "name": "stdout",
     "output_type": "stream",
     "text": [
      "Enter number of enteries: 3\n",
      "Enter Keys : item1\n",
      "Enter integer values : 23\n",
      "Enter Keys : item2\n",
      "Enter integer values : 21\n",
      "Enter Keys : item3\n",
      "Enter integer values : 12\n",
      "Dict-> {'item1': 23, 'item2': 21, 'item3': 12}\n",
      "Sum of items ->  56\n"
     ]
    }
   ],
   "source": [
    "my_dict={}\n",
    "n = int(input(\"Enter number of enteries: \"))\n",
    "\n",
    "for i in range(n):\n",
    "    key = input(\"Enter Keys : \")\n",
    "    values = int(input(\"Enter integer values : \"))\n",
    "    \n",
    "    my_dict[key]=values\n",
    "\n",
    "print(\"Dict->\",my_dict)\n",
    "total_sum = sum(my_dict.values())\n",
    "print(\"Sum of items -> \",total_sum)"
   ]
  },
  {
   "cell_type": "code",
   "execution_count": 28,
   "id": "892a49b5",
   "metadata": {},
   "outputs": [
    {
     "name": "stdout",
     "output_type": "stream",
     "text": [
      "3\n"
     ]
    }
   ],
   "source": [
    "my_dict\n",
    "count = 0\n",
    "for i in my_dict:\n",
    "    count +=1\n",
    "print(count)"
   ]
  },
  {
   "cell_type": "code",
   "execution_count": 31,
   "id": "0e154118",
   "metadata": {},
   "outputs": [
    {
     "name": "stdout",
     "output_type": "stream",
     "text": [
      "5\n",
      "6\n",
      "3\n",
      "2\n",
      "5\n",
      "9\n",
      "{'2', '6', '5', '9', '3'}\n"
     ]
    }
   ],
   "source": [
    "set_=[]\n",
    "n=int(input())\n",
    "for i in range(n):\n",
    "    j=input()\n",
    "    set_.append(j)\n",
    "s=set(set_)\n",
    "print(s)\n"
   ]
  },
  {
   "cell_type": "code",
   "execution_count": 37,
   "id": "4f6b21fa",
   "metadata": {},
   "outputs": [
    {
     "name": "stdout",
     "output_type": "stream",
     "text": [
      "5\n",
      "9\n",
      "2\n"
     ]
    }
   ],
   "source": [
    "s\n",
    "count = 0\n",
    "for i in s:\n",
    "    count +=1\n",
    "print(count)\n",
    "max_value = None\n",
    "for value in s:\n",
    "    if max_value is None or value > max_value:\n",
    "        max_value = value\n",
    "print(max_value)\n",
    "\n",
    "min_value = None\n",
    "for val in s:\n",
    "    if min_value is None or val < min_value:\n",
    "        min_value = val\n",
    "print(min_value)"
   ]
  },
  {
   "cell_type": "code",
   "execution_count": 40,
   "id": "e521dbe0",
   "metadata": {},
   "outputs": [
    {
     "name": "stdout",
     "output_type": "stream",
     "text": [
      "3 is common in both\n",
      "4 is common in both\n",
      "5 is common in both\n",
      "No element common\n"
     ]
    }
   ],
   "source": [
    "l1=[1,2,3,4,5]\n",
    "l2=[2,4,3,6,7]\n",
    "for i in l1:\n",
    "    if i in l2:\n",
    "        \n",
    "        print(f\"{l1[i]} is common in both\")\n",
    "else:\n",
    "    print(\"No element common\")"
   ]
  },
  {
   "cell_type": "code",
   "execution_count": 41,
   "id": "d942377d",
   "metadata": {},
   "outputs": [
    {
     "name": "stdout",
     "output_type": "stream",
     "text": [
      "Matrix:\n",
      "[[ 1  2  3  4]\n",
      " [ 2  4  6  8]\n",
      " [ 3  6  9 12]\n",
      " [ 4  8 12 16]\n",
      " [ 5 10 15 20]]\n"
     ]
    }
   ],
   "source": [
    "import numpy as np\n",
    "\n",
    "# Define the first row\n",
    "first_row = np.array([1, 2, 3, 4])\n",
    "\n",
    "# Define the number of rows for the matrix\n",
    "num_rows = 5\n",
    "\n",
    "# Create a matrix with subsequent rows assigned to the first row's elements\n",
    "# Initialize a matrix with zeros\n",
    "matrix = np.zeros((num_rows, len(first_row)), dtype=int)\n",
    "\n",
    "# Assign the first row to the matrix\n",
    "matrix[0] = first_row\n",
    "\n",
    "# Assign subsequent rows based on the first row's elements\n",
    "# Example: setting subsequent rows as multiples of the first row's elements\n",
    "for i in range(1, num_rows):\n",
    "    matrix[i] = first_row * (i + 1)\n",
    "\n",
    "# Print the resulting matrix\n",
    "print(\"Matrix:\")\n",
    "print(matrix)\n"
   ]
  },
  {
   "cell_type": "code",
   "execution_count": 42,
   "id": "39f861ee",
   "metadata": {},
   "outputs": [
    {
     "name": "stdout",
     "output_type": "stream",
     "text": [
      "Matrix A:\n",
      "[[1 2 3]\n",
      " [4 5 6]\n",
      " [7 8 9]]\n",
      "\n",
      "Matrix B:\n",
      "[[9 8 7]\n",
      " [6 5 4]\n",
      " [3 2 1]]\n",
      "\n",
      "Sum of Matrix A and Matrix B:\n",
      "[[10 10 10]\n",
      " [10 10 10]\n",
      " [10 10 10]]\n",
      "\n",
      "Difference of Matrix A and Matrix B:\n",
      "[[-8 -6 -4]\n",
      " [-2  0  2]\n",
      " [ 4  6  8]]\n"
     ]
    }
   ],
   "source": [
    "import numpy as np\n",
    "\n",
    "# Define two matrices\n",
    "matrix_a = np.array([[1, 2, 3], [4, 5, 6], [7, 8, 9]])\n",
    "matrix_b = np.array([[9, 8, 7], [6, 5, 4], [3, 2, 1]])\n",
    "\n",
    "# Add the matrices\n",
    "matrix_sum = np.add(matrix_a, matrix_b)\n",
    "\n",
    "# Subtract the matrices\n",
    "matrix_diff = np.subtract(matrix_a, matrix_b)\n",
    "\n",
    "# Print the results\n",
    "print(\"Matrix A:\")\n",
    "print(matrix_a)\n",
    "print(\"\\nMatrix B:\")\n",
    "print(matrix_b)\n",
    "print(\"\\nSum of Matrix A and Matrix B:\")\n",
    "print(matrix_sum)\n",
    "print(\"\\nDifference of Matrix A and Matrix B:\")\n",
    "print(matrix_diff)\n",
    "\n"
   ]
  },
  {
   "cell_type": "code",
   "execution_count": 43,
   "id": "51bd8c02",
   "metadata": {},
   "outputs": [
    {
     "name": "stdout",
     "output_type": "stream",
     "text": [
      "The grouped elements matrix is:\n",
      "[[1 1 1]\n",
      " [2 2 2]\n",
      " [3 3 0]\n",
      " [4 0 0]]\n"
     ]
    }
   ],
   "source": [
    "import numpy as np\n",
    "\n",
    "def group_elements_to_matrix(elements):\n",
    "    # Create a dictionary to hold the groups\n",
    "    grouped_elements = {}\n",
    "\n",
    "    # Group elements\n",
    "    for element in elements:\n",
    "        if element not in grouped_elements:\n",
    "            grouped_elements[element] = []\n",
    "        grouped_elements[element].append(element)\n",
    "\n",
    "    # Find the size of the largest group to determine matrix dimensions\n",
    "    max_group_size = max(len(group) for group in grouped_elements.values())\n",
    "\n",
    "    # Create a matrix with the appropriate dimensions\n",
    "    num_groups = len(grouped_elements)\n",
    "    matrix = np.zeros((num_groups, max_group_size), dtype=int)\n",
    "\n",
    "    # Fill the matrix with grouped elements\n",
    "    for i, group in enumerate(grouped_elements.values()):\n",
    "        for j, element in enumerate(group):\n",
    "            matrix[i, j] = element\n",
    "\n",
    "    return matrix\n",
    "\n",
    "# Example elements list\n",
    "elements = [1, 2, 2, 3, 1, 4, 3, 2, 1]\n",
    "\n",
    "# Create the matrix\n",
    "result_matrix = group_elements_to_matrix(elements)\n",
    "\n",
    "# Print the resulting matrix\n",
    "print(\"The grouped elements matrix is:\")\n",
    "print(result_matrix)\n"
   ]
  },
  {
   "cell_type": "code",
   "execution_count": null,
   "id": "26d00c02",
   "metadata": {},
   "outputs": [],
   "source": []
  },
  {
   "cell_type": "code",
   "execution_count": null,
   "id": "80da93eb",
   "metadata": {},
   "outputs": [],
   "source": []
  },
  {
   "cell_type": "code",
   "execution_count": null,
   "id": "4e08bb9b",
   "metadata": {},
   "outputs": [],
   "source": []
  },
  {
   "cell_type": "code",
   "execution_count": null,
   "id": "ae334ddd",
   "metadata": {},
   "outputs": [],
   "source": []
  },
  {
   "cell_type": "code",
   "execution_count": null,
   "id": "745e219e",
   "metadata": {},
   "outputs": [],
   "source": []
  },
  {
   "cell_type": "code",
   "execution_count": null,
   "id": "e1a8f443",
   "metadata": {},
   "outputs": [],
   "source": []
  },
  {
   "cell_type": "code",
   "execution_count": null,
   "id": "60482461",
   "metadata": {},
   "outputs": [],
   "source": []
  },
  {
   "cell_type": "code",
   "execution_count": null,
   "id": "6413c82c",
   "metadata": {},
   "outputs": [],
   "source": []
  },
  {
   "cell_type": "code",
   "execution_count": null,
   "id": "13afaf3b",
   "metadata": {},
   "outputs": [],
   "source": []
  },
  {
   "cell_type": "code",
   "execution_count": null,
   "id": "dc0105af",
   "metadata": {},
   "outputs": [],
   "source": []
  },
  {
   "cell_type": "code",
   "execution_count": null,
   "id": "deaf7aeb",
   "metadata": {},
   "outputs": [],
   "source": []
  },
  {
   "cell_type": "code",
   "execution_count": null,
   "id": "c5bc4f4b",
   "metadata": {},
   "outputs": [],
   "source": []
  },
  {
   "cell_type": "code",
   "execution_count": null,
   "id": "12507beb",
   "metadata": {},
   "outputs": [],
   "source": []
  },
  {
   "cell_type": "code",
   "execution_count": null,
   "id": "7319493c",
   "metadata": {},
   "outputs": [],
   "source": []
  },
  {
   "cell_type": "code",
   "execution_count": null,
   "id": "a7873e3a",
   "metadata": {},
   "outputs": [],
   "source": []
  },
  {
   "cell_type": "code",
   "execution_count": null,
   "id": "a1bdef02",
   "metadata": {},
   "outputs": [],
   "source": []
  }
 ],
 "metadata": {
  "kernelspec": {
   "display_name": "Python 3 (ipykernel)",
   "language": "python",
   "name": "python3"
  },
  "language_info": {
   "codemirror_mode": {
    "name": "ipython",
    "version": 3
   },
   "file_extension": ".py",
   "mimetype": "text/x-python",
   "name": "python",
   "nbconvert_exporter": "python",
   "pygments_lexer": "ipython3",
   "version": "3.11.5"
  }
 },
 "nbformat": 4,
 "nbformat_minor": 5
}
